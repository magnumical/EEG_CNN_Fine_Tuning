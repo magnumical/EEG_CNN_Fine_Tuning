{
 "cells": [
  {
   "cell_type": "code",
   "execution_count": 32,
   "metadata": {},
   "outputs": [],
   "source": [
    "# -*- coding: utf-8 -*-\n",
    "\"\"\"\n",
    "Created on Wed Aug  5 20:31:11 2020\n",
    "\n",
    "@author: REZA\n",
    "\"\"\"\n",
    "\n",
    "\n",
    "\n",
    "from tensorflow.keras.models import Sequential\n",
    "from tensorflow.keras.layers import Dense, Dropout, Activation, Flatten\n",
    "from tensorflow.keras.layers import Conv1D, MaxPooling1D, BatchNormalization, GRU, LSTM, RNN\n",
    "\n",
    "#from keras.models import Sequential, model_from_json\n",
    "#from keras.layers import Conv1D,Conv2D,MaxPooling1D,Flatten,Dense,Dropout,BatchNormalization, GRU, LSTM, RNN\n",
    "from tensorflow.keras import regularizers as reg\n",
    "\n",
    "import numpy as np\n",
    "import matplotlib.pyplot as plt\n",
    "from sklearn.pipeline import Pipeline\n",
    "from sklearn.model_selection import ShuffleSplit, cross_val_score\n",
    "from mne import Epochs,pick_types,events_from_annotations\n",
    "from mne.channels import make_standard_montage\n",
    "from mne.io import concatenate_raws,read_raw_edf\n",
    "from mne.datasets import eegbci\n",
    "\n",
    "\n",
    "from sklearn.model_selection import train_test_split\n",
    "\n",
    "\n",
    "from kerastuner.tuners import RandomSearch\n",
    "from kerastuner.engine.hyperparameters import HyperParameters\n",
    "import time\n"
   ]
  },
  {
   "cell_type": "code",
   "execution_count": 35,
   "metadata": {},
   "outputs": [],
   "source": [
    "\n",
    "#%%\n",
    "def cnn(hp,conv_layers=3,filter_size=3, fc_layers=2,fc_sizes=(512,256),\n",
    "        dropout=0.5,pool_size=2,init='he_uniform',act='relu',optim='adam',\n",
    "        reg = reg.l2(0.05)):\n",
    "\n",
    "    classifier = Sequential()\n",
    "    \n",
    "    classifier.add(Conv1D(hp.Int(\"input_units\",min_value=32,max_value=512,step=32), filter_size, input_shape = X_train.shape[1:],\n",
    "                              activation = act,kernel_initializer=init,kernel_regularizer=reg))\n",
    "#    classifier.add(BatchNormalization())\n",
    "    classifier.add(MaxPooling1D(pool_size=2))\n",
    "    \n",
    "    for i in range(hp.Int(\"n_layers\",1,3)):\n",
    "        classifier.add(Conv1D(hp.Int(f\"Conv_{i}_units\",min_value=32,max_value=256,step=32),3))\n",
    "        classifier.add(Activation('relu'))\n",
    "        \n",
    "    classifier.add(Flatten())\n",
    "    \n",
    "    for j in range(fc_layers):\n",
    "        classifier.add(Dense(fc_sizes[j], activation = act,kernel_initializer=init,kernel_regularizer=reg))\n",
    "        classifier.add(Dropout(dropout))\n",
    "        \n",
    "    classifier.add(Dense(4, activation = 'softmax',kernel_initializer=init))\n",
    "    classifier.compile(optimizer = optim, loss = 'sparse_categorical_crossentropy', metrics = ['accuracy'])\n",
    "    \n",
    "    return classifier\n",
    "    "
   ]
  },
  {
   "cell_type": "code",
   "execution_count": 3,
   "metadata": {},
   "outputs": [
    {
     "name": "stdout",
     "output_type": "stream",
     "text": [
      "Extracting EDF parameters from C:\\Users\\REZA\\mne_data\\MNE-eegbci-data\\files\\eegmmidb\\1.0.0\\S001\\S001R06.edf...\n",
      "EDF file detected\n",
      "Setting channel info structure...\n",
      "Creating raw.info structure...\n",
      "Reading 0 ... 19999  =      0.000 ...   124.994 secs...\n",
      "Extracting EDF parameters from C:\\Users\\REZA\\mne_data\\MNE-eegbci-data\\files\\eegmmidb\\1.0.0\\S001\\S001R10.edf...\n",
      "EDF file detected\n",
      "Setting channel info structure...\n",
      "Creating raw.info structure...\n",
      "Reading 0 ... 19999  =      0.000 ...   124.994 secs...\n",
      "Extracting EDF parameters from C:\\Users\\REZA\\mne_data\\MNE-eegbci-data\\files\\eegmmidb\\1.0.0\\S001\\S001R14.edf...\n",
      "EDF file detected\n",
      "Setting channel info structure...\n",
      "Creating raw.info structure...\n",
      "Reading 0 ... 19999  =      0.000 ...   124.994 secs...\n",
      "Filtering raw data in 3 contiguous segments\n",
      "Setting up band-pass filter from 6 - 13 Hz\n",
      "\n",
      "FIR filter parameters\n",
      "---------------------\n",
      "Designing a one-pass, zero-phase, non-causal bandpass filter:\n",
      "- Windowed time-domain design (firwin) method\n",
      "- Hamming window with 0.0194 passband ripple and 53 dB stopband attenuation\n",
      "- Lower passband edge: 6.00\n",
      "- Lower transition bandwidth: 2.00 Hz (-6 dB cutoff frequency: 5.00 Hz)\n",
      "- Upper passband edge: 13.00 Hz\n",
      "- Upper transition bandwidth: 3.25 Hz (-6 dB cutoff frequency: 14.62 Hz)\n",
      "- Filter length: 265 samples (1.656 sec)\n",
      "\n",
      "Used Annotations descriptions: ['T1', 'T2']\n",
      "45 matching events found\n",
      "No baseline correction applied\n",
      "Not setting metadata\n",
      "0 projection items activated\n",
      "Loading data for 45 events and 801 original time points ...\n",
      "0 bad epochs dropped\n"
     ]
    }
   ],
   "source": [
    "\n",
    "\n",
    "\n",
    "\n",
    "#%%\n",
    "subject=1\n",
    "runs=[6,10,14]\n",
    "raw_fnames=eegbci.load_data(subject,runs)\n",
    "raw=concatenate_raws([read_raw_edf(f,preload=True) for f in raw_fnames])\n",
    "\n",
    "eegbci.standardize(raw)\n",
    "#create 10-10 system\n",
    "montage=make_standard_montage('standard_1005')\n",
    "raw.set_montage(montage)\n",
    "\n",
    "raw.filter(6,13)\n",
    "events,_=events_from_annotations(raw,event_id=dict(T1=0,T2=1))\n",
    "#0: left, 1:right\n",
    "picks=pick_types(raw.info,meg=False,eeg=True,stim=False,eog=False,exclude='bads')\n",
    "\n",
    "tmin,tmax=-1,4\n",
    "epochs=Epochs(raw,events,None,tmin,tmax,proj=True,picks=picks,\n",
    "             baseline=None,preload=True)\n",
    "#epochs_train=epochs.copy().crop(0,2)\n",
    "epochs_train=epochs.copy().crop(0,2)\n",
    "labels=epochs.events[:,-1]\n",
    "\n",
    "epochs_data=epochs.get_data()\n",
    "epochs_data_train=epochs_train.get_data()\n",
    "\n",
    "\n",
    "X_train,X_test,y_train,y_test = train_test_split(\n",
    "        epochs_data_train, labels, test_size=0.2, random_state=42)\n",
    "\n"
   ]
  },
  {
   "cell_type": "code",
   "execution_count": 4,
   "metadata": {},
   "outputs": [
    {
     "ename": "TypeError",
     "evalue": "cnn() missing 1 required positional argument: 'hp'",
     "output_type": "error",
     "traceback": [
      "\u001b[1;31m---------------------------------------------------------------------------\u001b[0m",
      "\u001b[1;31mTypeError\u001b[0m                                 Traceback (most recent call last)",
      "\u001b[1;32m<ipython-input-4-b2dc6a0e65d9>\u001b[0m in \u001b[0;36m<module>\u001b[1;34m()\u001b[0m\n\u001b[1;32m----> 1\u001b[1;33m \u001b[0mclassifier\u001b[0m\u001b[1;33m=\u001b[0m\u001b[0mcnn\u001b[0m\u001b[1;33m(\u001b[0m\u001b[1;33m)\u001b[0m\u001b[1;33m\u001b[0m\u001b[0m\n\u001b[0m\u001b[0;32m      2\u001b[0m \u001b[0mclassifier\u001b[0m\u001b[1;33m.\u001b[0m\u001b[0mfit\u001b[0m\u001b[1;33m(\u001b[0m\u001b[0mX_train\u001b[0m\u001b[1;33m,\u001b[0m \u001b[0my_train\u001b[0m\u001b[1;33m,\u001b[0m \u001b[0mvalidation_data\u001b[0m\u001b[1;33m=\u001b[0m\u001b[1;33m(\u001b[0m\u001b[0mX_test\u001b[0m\u001b[1;33m,\u001b[0m\u001b[0my_test\u001b[0m\u001b[1;33m)\u001b[0m\u001b[1;33m,\u001b[0m\u001b[0mepochs\u001b[0m\u001b[1;33m=\u001b[0m\u001b[1;36m10\u001b[0m\u001b[1;33m,\u001b[0m\u001b[0mbatch_size\u001b[0m\u001b[1;33m=\u001b[0m\u001b[1;36m64\u001b[0m\u001b[1;33m)\u001b[0m\u001b[1;33m\u001b[0m\u001b[0m\n\u001b[0;32m      3\u001b[0m \u001b[1;33m\u001b[0m\u001b[0m\n\u001b[0;32m      4\u001b[0m \u001b[0mhistory\u001b[0m\u001b[1;33m=\u001b[0m\u001b[0mcnn\u001b[0m\u001b[1;33m(\u001b[0m\u001b[0mconv_layers\u001b[0m\u001b[1;33m=\u001b[0m\u001b[1;36m2\u001b[0m\u001b[1;33m,\u001b[0m\u001b[0mconv_sizes\u001b[0m\u001b[1;33m=\u001b[0m\u001b[1;33m(\u001b[0m\u001b[1;36m64\u001b[0m\u001b[1;33m,\u001b[0m\u001b[1;36m64\u001b[0m\u001b[1;33m)\u001b[0m\u001b[1;33m,\u001b[0m\u001b[0mfc_layers\u001b[0m\u001b[1;33m=\u001b[0m\u001b[1;36m3\u001b[0m\u001b[1;33m,\u001b[0m\u001b[0mfc_sizes\u001b[0m\u001b[1;33m=\u001b[0m\u001b[1;33m(\u001b[0m\u001b[1;36m1024\u001b[0m\u001b[1;33m,\u001b[0m\u001b[1;36m512\u001b[0m\u001b[1;33m,\u001b[0m\u001b[1;36m256\u001b[0m\u001b[1;33m)\u001b[0m\u001b[1;33m)\u001b[0m\u001b[1;33m\u001b[0m\u001b[0m\n",
      "\u001b[1;31mTypeError\u001b[0m: cnn() missing 1 required positional argument: 'hp'"
     ]
    }
   ],
   "source": [
    "classifier=cnn()\n",
    "classifier.fit(X_train, y_train, validation_data=(X_test,y_test),epochs=10,batch_size=64)   \n",
    "\n",
    "history=cnn(conv_layers=2,conv_sizes=(64,64),fc_layers=3,fc_sizes=(1024,512,256))\n"
   ]
  },
  {
   "cell_type": "code",
   "execution_count": 36,
   "metadata": {
    "scrolled": false
   },
   "outputs": [
    {
     "name": "stdout",
     "output_type": "stream",
     "text": [
      "Epoch 1/20\n",
      "1/1 [==============================] - ETA: 0s - loss: 123.0617 - accuracy: 0.50 - 1s 796ms/step - loss: 123.0617 - accuracy: 0.5000 - val_loss: 115.7835 - val_accuracy: 0.3333\n",
      "Epoch 2/20\n",
      "1/1 [==============================] - ETA: 0s - loss: 115.7798 - accuracy: 0.58 - 0s 30ms/step - loss: 115.7798 - accuracy: 0.5833 - val_loss: 108.8846 - val_accuracy: 0.3333\n",
      "Epoch 3/20\n",
      "1/1 [==============================] - ETA: 0s - loss: 108.8770 - accuracy: 0.61 - 0s 32ms/step - loss: 108.8770 - accuracy: 0.6111 - val_loss: 102.3621 - val_accuracy: 0.3333\n",
      "Epoch 4/20\n",
      "1/1 [==============================] - ETA: 0s - loss: 102.3543 - accuracy: 0.58 - 0s 28ms/step - loss: 102.3543 - accuracy: 0.5833 - val_loss: 96.2013 - val_accuracy: 0.3333\n",
      "Epoch 5/20\n",
      "1/1 [==============================] - ETA: 0s - loss: 96.1812 - accuracy: 0.583 - 0s 27ms/step - loss: 96.1812 - accuracy: 0.5833 - val_loss: 90.3865 - val_accuracy: 0.3333\n",
      "Epoch 6/20\n",
      "1/1 [==============================] - ETA: 0s - loss: 90.3508 - accuracy: 0.555 - 0s 29ms/step - loss: 90.3508 - accuracy: 0.5556 - val_loss: 84.9078 - val_accuracy: 0.3333\n",
      "Epoch 7/20\n",
      "1/1 [==============================] - ETA: 0s - loss: 84.8461 - accuracy: 0.583 - 0s 28ms/step - loss: 84.8461 - accuracy: 0.5833 - val_loss: 79.7549 - val_accuracy: 0.3333\n",
      "Epoch 8/20\n",
      "1/1 [==============================] - ETA: 0s - loss: 79.6856 - accuracy: 0.555 - 0s 29ms/step - loss: 79.6856 - accuracy: 0.5556 - val_loss: 74.9345 - val_accuracy: 0.3333\n",
      "Epoch 9/20\n",
      "1/1 [==============================] - ETA: 0s - loss: 74.8199 - accuracy: 0.583 - 0s 28ms/step - loss: 74.8199 - accuracy: 0.5833 - val_loss: 70.4626 - val_accuracy: 0.3333\n",
      "Epoch 10/20\n",
      "1/1 [==============================] - ETA: 0s - loss: 70.3277 - accuracy: 0.583 - 0s 28ms/step - loss: 70.3277 - accuracy: 0.5833 - val_loss: 66.2823 - val_accuracy: 0.3333\n",
      "Epoch 11/20\n",
      "1/1 [==============================] - ETA: 0s - loss: 66.1448 - accuracy: 0.527 - 0s 29ms/step - loss: 66.1448 - accuracy: 0.5278 - val_loss: 62.3644 - val_accuracy: 0.3333\n",
      "Epoch 12/20\n",
      "1/1 [==============================] - ETA: 0s - loss: 62.3405 - accuracy: 0.555 - 0s 35ms/step - loss: 62.3405 - accuracy: 0.5556 - val_loss: 58.6899 - val_accuracy: 0.3333\n",
      "Epoch 13/20\n",
      "1/1 [==============================] - ETA: 0s - loss: 58.7026 - accuracy: 0.500 - 1s 733ms/step - loss: 58.7026 - accuracy: 0.5000 - val_loss: 55.2770 - val_accuracy: 0.6667\n",
      "Epoch 14/20\n",
      "1/1 [==============================] - ETA: 0s - loss: 55.5118 - accuracy: 0.388 - 0s 29ms/step - loss: 55.5118 - accuracy: 0.3889 - val_loss: 52.1515 - val_accuracy: 0.6667\n",
      "Epoch 15/20\n",
      "1/1 [==============================] - ETA: 0s - loss: 52.2301 - accuracy: 0.472 - 0s 28ms/step - loss: 52.2301 - accuracy: 0.4722 - val_loss: 49.2662 - val_accuracy: 0.6667\n",
      "Epoch 16/20\n",
      "1/1 [==============================] - ETA: 0s - loss: 49.3072 - accuracy: 0.527 - 0s 28ms/step - loss: 49.3072 - accuracy: 0.5278 - val_loss: 46.6145 - val_accuracy: 0.3333\n",
      "Epoch 17/20\n",
      "1/1 [==============================] - ETA: 0s - loss: 46.6920 - accuracy: 0.527 - 0s 28ms/step - loss: 46.6920 - accuracy: 0.5278 - val_loss: 44.1579 - val_accuracy: 0.3333\n",
      "Epoch 18/20\n",
      "1/1 [==============================] - ETA: 0s - loss: 44.2153 - accuracy: 0.444 - 0s 28ms/step - loss: 44.2153 - accuracy: 0.4444 - val_loss: 41.8896 - val_accuracy: 0.3333\n",
      "Epoch 19/20\n",
      "1/1 [==============================] - ETA: 0s - loss: 41.8302 - accuracy: 0.555 - 0s 28ms/step - loss: 41.8302 - accuracy: 0.5556 - val_loss: 39.7538 - val_accuracy: 0.3333\n",
      "Epoch 20/20\n",
      "1/1 [==============================] - ETA: 0s - loss: 39.7323 - accuracy: 0.500 - 0s 28ms/step - loss: 39.7323 - accuracy: 0.5000 - val_loss: 37.7194 - val_accuracy: 0.3333\n"
     ]
    },
    {
     "data": {
      "text/html": [
       "<span style=\"color:#4527A0\"><h1 style=\"font-size:18px\">Trial complete</h1></span>"
      ],
      "text/plain": [
       "<IPython.core.display.HTML object>"
      ]
     },
     "metadata": {},
     "output_type": "display_data"
    },
    {
     "data": {
      "text/html": [
       "<span style=\"color:#4527A0\"><h1 style=\"font-size:18px\">Trial summary</h1></span>"
      ],
      "text/plain": [
       "<IPython.core.display.HTML object>"
      ]
     },
     "metadata": {},
     "output_type": "display_data"
    },
    {
     "data": {
      "text/html": [
       "<span style=\"color:cyan\"> |-Trial ID: 4c7386c21e743309f49f01269a923beb</span>"
      ],
      "text/plain": [
       "<IPython.core.display.HTML object>"
      ]
     },
     "metadata": {},
     "output_type": "display_data"
    },
    {
     "data": {
      "text/html": [
       "<span style=\"color:cyan\"> |-Score: 0.6666666865348816</span>"
      ],
      "text/plain": [
       "<IPython.core.display.HTML object>"
      ]
     },
     "metadata": {},
     "output_type": "display_data"
    },
    {
     "data": {
      "text/html": [
       "<span style=\"color:cyan\"> |-Best step: 0</span>"
      ],
      "text/plain": [
       "<IPython.core.display.HTML object>"
      ]
     },
     "metadata": {},
     "output_type": "display_data"
    },
    {
     "data": {
      "text/html": [
       "<span style=\"color:#7E57C2\"><h2 style=\"font-size:16px\">Hyperparameters:</h2></span>"
      ],
      "text/plain": [
       "<IPython.core.display.HTML object>"
      ]
     },
     "metadata": {},
     "output_type": "display_data"
    },
    {
     "data": {
      "text/html": [
       "<span style=\"color:cyan\"> |-Conv_0_units: 224</span>"
      ],
      "text/plain": [
       "<IPython.core.display.HTML object>"
      ]
     },
     "metadata": {},
     "output_type": "display_data"
    },
    {
     "data": {
      "text/html": [
       "<span style=\"color:blue\"> |-input_units: 448</span>"
      ],
      "text/plain": [
       "<IPython.core.display.HTML object>"
      ]
     },
     "metadata": {},
     "output_type": "display_data"
    },
    {
     "data": {
      "text/html": [
       "<span style=\"color:cyan\"> |-n_layers: 1</span>"
      ],
      "text/plain": [
       "<IPython.core.display.HTML object>"
      ]
     },
     "metadata": {},
     "output_type": "display_data"
    },
    {
     "name": "stdout",
     "output_type": "stream",
     "text": [
      "INFO:tensorflow:Oracle triggered exit\n"
     ]
    }
   ],
   "source": [
    "#%%\n",
    "tuner=RandomSearch(cnn,\n",
    "                   objective='val_accuracy',\n",
    "                   max_trials=1,\n",
    "                   executions_per_trial=1)\n",
    "\n",
    "tuner.search(x=X_train,\n",
    "             y=y_train,\n",
    "            epochs=20,\n",
    "            batch_size=64,\n",
    "            validation_data=(X_test,y_test))\n"
   ]
  },
  {
   "cell_type": "code",
   "execution_count": null,
   "metadata": {},
   "outputs": [],
   "source": []
  }
 ],
 "metadata": {
  "kernelspec": {
   "display_name": "Python 3",
   "language": "python",
   "name": "python3"
  },
  "language_info": {
   "codemirror_mode": {
    "name": "ipython",
    "version": 3
   },
   "file_extension": ".py",
   "mimetype": "text/x-python",
   "name": "python",
   "nbconvert_exporter": "python",
   "pygments_lexer": "ipython3",
   "version": "3.7.0"
  }
 },
 "nbformat": 4,
 "nbformat_minor": 2
}
